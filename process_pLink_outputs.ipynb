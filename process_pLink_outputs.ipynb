{
 "cells": [
  {
   "cell_type": "code",
   "execution_count": 0,
   "metadata": {},
   "outputs": [],
   "source": [
    "## Load Libraries ##\n",
    "library(tidyverse)\n",
    "library(docstring)\n",
    "source('./pLink_functions.R')"
   ]
  },
  {
   "cell_type": "markdown",
   "metadata": {},
   "source": [
    "## Process and filter pLink spectra to remove contaminants ##"
   ]
  },
  {
   "cell_type": "code",
   "execution_count": 0,
   "metadata": {},
   "outputs": [],
   "source": [
    "flist <- c(\"MDA\" = \"./MDA_MergedDB_spectra.csv\",\n",
    "           \"LM2\" = \"./LM2_MergedDB_spectra.csv\")\n",
    "\n",
    "off_table <- read_tsv(\"./Julia_edited_SPmTPremoved_pos.txt\")# position offset table (correct removal of signal peptide)"
   ]
  },
  {
   "cell_type": "code",
   "execution_count": 0,
   "metadata": {},
   "outputs": [],
   "source": [
    "data <- map(flist, read_csv) %>% # load the data\n",
    "         map(split_into_2_seq, \"Peptide\") %>% # split the peptide column into 4 columns - Sequence_A, Sequence_B, PepPos_A, and PepPos_B\n",
    "         map(filter, str_detect(Proteins, \"sp\\\\|[^/]+-sp\\\\|\")) %>% # remove contaminants which do not start with sp\n",
    "         map(split_title, \"Title\") %>% #splits into the different columns: Spectrum_File, Spectrum_ID, Precursor_ID, and scans\n",
    "         map(split_into_2_acc, \"Proteins\") %>% #splits protein into ProtA and protB, but takes only the 1st option when there are multiple.\n",
    "         map(renumber_plink_multival, off_table) # renumber the positions according to an offset table\n"
   ]
  },
  {
   "cell_type": "code",
   "execution_count": 0,
   "metadata": {
    "scrolled": true
   },
   "outputs": [],
   "source": [
    "# write the filtered data\n",
    "map2(data, flist %>% str_replace(\"\\\\.csv\",\"_filtered.csv\"), write_csv)"
   ]
  },
  {
   "cell_type": "markdown",
   "metadata": {},
   "source": [
    "## Process and filter pLink sites to remove contaminants ##"
   ]
  },
  {
   "cell_type": "code",
   "execution_count": 0,
   "metadata": {
    "scrolled": true
   },
   "outputs": [],
   "source": [
    "#load data\n",
    "flist <- c(\"MDA\" = \"./MDA_MergedDB_sites.csv\",\n",
    "           \"LM2\" = \"./LM2_MergedDB_sites.csv\")\n",
    "\n",
    "off_table <- read_tsv(\"./Julia_edited_SPmTPremoved_pos.txt\") # position offset table (correct removal of signal peptide)\n",
    "exp_pattern = \"(?<=_SCX)\\\\d+_\\\\d\" # the pattern of the experiment number in the file name"
   ]
  },
  {
   "cell_type": "markdown",
   "metadata": {},
   "source": [
    "#### Load the nested table site data, extract the data from the nested table and remove it"
   ]
  },
  {
   "cell_type": "code",
   "execution_count": 0,
   "metadata": {},
   "outputs": [],
   "source": [
    "#read the data to a nested DF\n",
    "data <- map(flist, read_pLink_sites)\n",
    "#split the title inside the nested spectra_data to prepare for extraction\n",
    "data <- map(data, mutate, spectra_data = map(spectra_data, split_title ,\"Title\"))%>%\n",
    "                  #extract the file names based on the pattern\n",
    "                  map(mutate, spec_files = spectra_data %>%\n",
    "                                   map(extract_spec_files_from_nested_spec_data,exp_pattern) %>%\n",
    "                                   unlist(use.names = F)\n",
    "                 ) %>%\n",
    "                 #extract the IDs, spectrum, precursor, scans\n",
    "                 map(mutate,spectrum_IDs = spectra_data %>%\n",
    "                                       map(extract_ID_from_nested_spec_data, \"Spectrum_ID\") %>%\n",
    "                                       unlist(use.names = F)\n",
    "                 ) %>%\n",
    "                 map(mutate,precursor_IDs = spectra_data %>%\n",
    "                                       map(extract_ID_from_nested_spec_data, \"Precursor_ID\") %>%\n",
    "                                       unlist(use.names = F)\n",
    "                 ) %>%\n",
    "                 map(mutate,scans = spectra_data %>%\n",
    "                                       map(extract_ID_from_nested_spec_data, \"scans\") %>%\n",
    "                                       unlist(use.names = F)\n",
    "                 ) %>%\n",
    "                 #extract the min score\n",
    "                 map(mutate,min_score = spectra_data %>%\n",
    "                                       map(extract_score_from_nested_spec_data, \"Score\") %>%\n",
    "                                       unlist(use.names = F)\n",
    "                 )%>%\n",
    "                  map(select,-spectra_data)"
   ]
  },
  {
   "cell_type": "markdown",
   "metadata": {},
   "source": [
    "#### process the parent table"
   ]
  },
  {
   "cell_type": "code",
   "execution_count": 0,
   "metadata": {},
   "outputs": [],
   "source": [
    "data <- data %>% map(filter, str_detect(Protein, \"sp\\\\|[^/]+-sp\\\\|\")) %>% #filter out contaminants\n",
    "                 map(split_into_2_acc, \"Protein\")%>%\n",
    "                 map(renumber_plink_multival, off_table)"
   ]
  },
  {
   "cell_type": "code",
   "execution_count": 0,
   "metadata": {
    "collapsed": true,
    "scrolled": true
   },
   "outputs": [],
   "source": [
    "#write the Xl tables\n",
    "map2(data, flist %>% str_replace(\"\\\\.csv\",\"_filtered.csv\"), write_csv)"
   ]
  },
  {
   "cell_type": "markdown",
   "metadata": {},
   "source": [
    "## Convert processed pLink tables to CrossID format ##"
   ]
  },
  {
   "cell_type": "code",
   "execution_count": 0,
   "metadata": {
    "scrolled": true
   },
   "outputs": [],
   "source": [
    "flist <- c(\"MDA\" = \"./MDA_MergedDB_spectra_filtered.csv\",\n",
    "           \"LM2\" = \"./LM2_MergedDB_spectra_filtered.csv\")\n",
    "\n",
    "data <- map(flist, read_csv) %>%\n",
    "        map(CSMs_2_crossID) # renames the columns to match the crossID column names\n",
    "\n",
    "map2(data, flist %>% str_replace(\"\\\\.csv\",\"_crossID.csv\"), write_csv)\n"
   ]
  },
  {
   "cell_type": "code",
   "execution_count": 0,
   "metadata": {
    "scrolled": true
   },
   "outputs": [],
   "source": [
    "flist <- c(\"MDA\" = \"./MDA_MergedDB_sites_filtered.csv\",\n",
    "           \"LM2\" = \"./LM2_MergedDB_sites_filtered.csv\")\n",
    "\n",
    "data <- map(flist, read_csv) %>%\n",
    "        map(Sites_2_crossID)\n",
    "\n",
    "map2(data, flist %>% str_replace(\"\\\\.csv\",\"_crossID.csv\"), write_csv)\n"
   ]
  }
 ],
 "metadata": {
  "kernelspec": {
   "display_name": "R",
   "language": "R",
   "name": "R",
   "resource_dir": "/usr/local/share/jupyter/kernels/R"
  },
  "language_info": {
   "codemirror_mode": "r",
   "file_extension": ".r",
   "mimetype": "text/x-r-source",
   "name": "R",
   "pygments_lexer": "r",
   "version": "4.1.0"
  }
 },
 "nbformat": 4,
 "nbformat_minor": 4
}
